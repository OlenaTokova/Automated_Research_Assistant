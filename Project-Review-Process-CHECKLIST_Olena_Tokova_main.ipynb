{
 "cells": [
  {
   "cell_type": "markdown",
   "metadata": {},
   "source": [
    "Project Review Process - Instructions:\n"
   ]
  },
  {
   "cell_type": "markdown",
   "metadata": {},
   "source": [
    "15-minute Review of Your Current Project and Status:\n",
    "\n",
    "Introduction \n",
    "Project Overview: \n",
    "\"We're developing an AI-powered research assistant designed to streamline the academic research process. By inputting a research question or topic, users can quickly access summaries of relevant papers, discover studies, and identify research gaps.\"\n",
    "\n",
    "Team and Role: \n",
    "\"Our team consists of software developers, data scientists, and subject matter experts in machine learning and natural language processing (NLP). I'm leading the project, focusing on integrating AI technologies to optimize our tool's effectiveness.\"\n",
    "\n",
    "Background and Objectives \n",
    "\n",
    "Need for the Project: \n",
    "\"Researchers spend a considerable amount of time sifting through academic papers to find relevant information. Our tool aims to reduce this time by automating the search and summary process, allowing researchers to focus more on analysis and less on manual information retrieval.\"\n",
    "\n",
    "Project Goals: \n",
    "\"The main goal is to create an intuitive, efficient, and accurate tool that can assist researchers across various disciplines in navigating the vast amount of academic literature available.\""
   ]
  },
  {
   "cell_type": "markdown",
   "metadata": {},
   "source": [
    "Brief Overview:\n",
    "\n",
    "The script is designed to search for scientific articles through the Europe PMC RESTful web service, retrieve the full text of these articles in XML format, and save them locally. It leverages several Python libraries to perform HTTP requests, parse XML, and interact with the OpenAI API"
   ]
  },
  {
   "cell_type": "markdown",
   "metadata": {},
   "source": [
    "Title and Description of your Project and \"Product\":\n",
    "Title: Automated Research Assistant\n",
    "Create a tool that helps researchers gather information, summarize papers, and find relevant studies based on their research topics.\n",
    "How It Works: Users input their research question or topic, \n",
    "and the tool uses language models to query academic databases, \n",
    "summarize findings, and \n",
    "I want to extract titles and paragraphs of journal articles downloaded from  Arxiv.org and other research sites in XML formats.  Then I want to create summaries from these extracts. \n",
    "\n",
    "\thttps://www.arxiv.org "
   ]
  },
  {
   "cell_type": "markdown",
   "metadata": {},
   "source": [
    "\n",
    "High-Level Requirements:\n",
    "\tVersion 0.NN - proof of concept(s)\n",
    "This project is a proof-of-concept (PoC) for a Python-based tool designed to automate the search of full-text scientific articles using Europe PMC's RESTful API. It illustrates the ability to search for articles based on a user-defined query, parse the XML responses for specific data (such as fullTextId), and then download the full text of those articles in XML format for local storage. The script uses the request library for HTTP requests, bs4's BeautifulSoup for XML parsing, and briefly introduces the potential for OpenAI API integration, although this part remains commented out and not developed in the current version.\n",
    "\n",
    "High level requirements for version 0.NN \n",
    "Functional requirements:\n",
    "\n",
    "Search functionality: Ability to accept user data for search queries and send these queries to the Europe PMC RESTful web service.\n",
    "XML Parsing: Extract fullTextId from search results to identify articles with available full texts.\n",
    "Obtaining and storing the full text.\n",
    "Technical requirements:\n",
    "\n",
    "Language and Libraries: The tool is implemented in Python, using queries for web requests, BeautifulSoup for XML parsing, and placeholders for potential use of the openai library.\n",
    "\n",
    "TODO: \n",
    "\n",
    "Encoding Support: Provide UTF-8 encoding for processing and saving articles, addressing character encoding issues that may occur with varying article content.\n",
    "User interaction and experience:\n",
    "\n",
    "Provide clear prompts for user input, such as search queries.\n",
    "Display informative messages about progress, such as the number of articles found, the status of downloads, and any errors or problems.\n",
    "Extensibility and future development:\n",
    "\n",
    "Prepare to integrate with the OpenAI API to add features such as summarizing or analyzing retrieved articles, although this remains undeveloped in the current version.\n",
    "Implement robust error handling and validation to improve reliability and user experience, especially for web queries and XML parsing.\n",
    "Performance and scalability:\n",
    "\n",
    "Optimize the process to efficiently handle the potentially large number of search results and full-text downloads.\n",
    "Note the scalability of the code structure for future extensions, such as additional data sources or advanced text processing functions.\n",
    "This release serves as an initial step, demonstrating basic capabilities and laying the groundwork for more advanced features and functionality in future iterations. The main focus at this stage is on demonstrating the possibility of automating the search for articles and preparing for deeper analysis of articles based on NLP."
   ]
  },
  {
   "cell_type": "markdown",
   "metadata": {},
   "source": [
    "\tVersion 1.0 - \"minimum viable product\"\n",
    "The MVP focuses on delivering a reliable, efficient, and user-friendly tool that meets the core needs of users wanting to access and analyze scientific articles. By addressing key user feedback and incorporating basic NLP functionalities, Version 1.0 stands as a significant milestone towards creating a comprehensive solution for academic research and literature review processes.\n",
    "\n"
   ]
  },
  {
   "cell_type": "markdown",
   "metadata": {},
   "source": [
    "\tVersion 1.NN.nn - near future release\n",
    "This version aims to introduce a suite of advanced features, more robust integrations, and a heightened focus on user experience and data analysis capabilities. The overarching goal is to transition from merely facilitating access to scientific articles to offering a comprehensive platform for academic research, literature review, and knowledge discovery.\n"
   ]
  },
  {
   "cell_type": "markdown",
   "metadata": {},
   "source": [
    "\tVersion x.NN.nn - future releases\n",
    "For future releases beyond the near-term enhancements, labeled as Version x.NN.nn, the project aspires to transform into a fully integrated, intelligent platform that not only streamlines access to scientific literature but also serves as an incubator for research innovation and collaboration on a global scale. These versions are envisioned to harness cutting-edge technologies, adapt to the evolving needs of the research community, and contribute to shaping the future of scientific inquiry and knowledge dissemination.\n",
    "\t\n"
   ]
  },
  {
   "cell_type": "markdown",
   "metadata": {},
   "source": [
    "Identifying the Real-world Objects:\n",
    "\n",
    "Objects (Nouns) and Functions (Verbs, Actions, Behavior)\n",
    "\tFor the evolving project focused on automating the retrieval, analysis, and collaboration on scientific literature, identifying real-world objects and their corresponding functions is essential to understand the system's structure and capabilities. This approach helps in mapping out the features, responsibilities, and interactions within the system. \n",
    "\t\n",
    "\n",
    "Objects (Nouns):\n",
    "User: Researchers, students, academicians, and anyone utilizing the platform to access and analyze scientific literature.\n",
    "Search Query: A user-defined input specifying the criteria for filtering the scientific articles they are interested in.\n",
    "Article: Scientific papers and publications that are the subject of retrieval, analysis, and discussion within the platform.\n",
    "Database/API: External services like Europe PMC RESTful API that provide access to scientific articles and metadata.\n",
    "NLP Engine: The component of the system responsible for processing natural language, including tasks such as summarization, key term extraction, and sentiment analysis.\n",
    "\n",
    "TODO: AI Research Assistant: A future envisioned intelligent agent capable of assisting with literature reviews, hypothesis generation, and data analysis.\n",
    "Knowledge Graph: A visual representation showing the relationships between different articles, concepts, datasets, etc.\n",
    "\n",
    "TODO: Blockchain Ledger: A decentralized database used in future versions for ensuring the integrity and verifiability of research data.\n",
    "Functions (Verbs, Actions, Behaviors):\n",
    "Search/Retrieve: The process of querying databases/APIs to find articles that match the user's search criteria.\n",
    "Parse/Analyze: Extracting meaningful information from articles using NLP techniques or AI analysis.\n",
    "Summarize: Condensing articles into shorter forms while retaining essential information, facilitated by the NLP engine.\n",
    "\n",
    "TODO: Visualize: Generating knowledge graphs or other visual aids to help users understand relationships and trends in the data.\n",
    "\n",
    "Store/Manage: Keeping articles, data, and user-generated insights in an organized and accessible manner.\n",
    "Verify: Ensuring the authenticity and integrity of research data using technologies like blockchain.\n"
   ]
  },
  {
   "cell_type": "markdown",
   "metadata": {},
   "source": [
    "Low-Level Requirements:\n",
    "For the project focused on automating the retrieval, analysis, and collaboration on scientific literature, defining low-level requirements is crucial for detailing the specific technical specifications, system behaviors, and functionality implementations. These requirements bridge the gap between high-level conceptual objectives and the concrete steps needed for development. They encompass the software architecture, technologies, protocols, and detailed behaviors of the system components.\n",
    "\n",
    "System Architecture and Design:\n",
    "Modular Design: The system should follow a modular architecture, allowing for easy updates, maintenance, and scalability. Each major functionality, such as search, retrieval, analysis, and collaboration, should be implemented as separate, interacting modules.\n",
    "API Integration: Define the protocols and methods for integrating with external APIs, like Europe PMC RESTful API, ensuring efficient data retrieval and updates. Include error handling, rate limiting, and data parsing mechanisms.\n",
    "\n",
    "TODO: Database Schema: Design a detailed database schema for storing user data, search queries, retrieved articles, and analysis results. This schema should support efficient queries, data integrity, and scalability."
   ]
  },
  {
   "cell_type": "markdown",
   "metadata": {},
   "source": [
    "TODO: \n",
    "specifications for the GUI components, layouts, and navigation flows, designed to enhance user experience and facilitate efficient interaction with the system.\n",
    "\n",
    "Home Page Layout:\n",
    "Navigation Bar: Located at the top, including links to Home, Search, My Library, Collaborate, and Help.\n",
    "Search Bar: Prominently placed in the center of the home page, allowing users to quickly enter search queries. Include advanced search options (filters such as date range, article type, authors) accessible via a dropdown menu or an \"Advanced Search\" link.\n",
    "Recent Searches and Articles: Below the search bar, display a section for recent searches and recently viewed articles, enabling quick access to previous work.\n",
    "Search and Results Page:\n",
    "Search Input: Allow users to refine their search queries or start a new search at the top of the page.\n",
    "Filters Panel: On the left side, provide a dynamic panel for filtering results by various criteria (publication date, access type, journal source, etc.).\n",
    "Results List: Display search results in the main panel, showing article titles, authors, publication dates, and a brief summary. Each result should be clickable, leading to the article detail view.\n",
    "Pagination/Scrolling: Implement pagination or infinite scrolling for results.\n",
    "Article Detail View:\n",
    "Article Information: Display detailed information, including title, authors, abstract, publication date, and journal. Include links to download or view the full article.\n",
    "Actions Panel: Provide options to save the article to \"My Library,\" share it, or start a collaborative discussion.\n",
    "Summarization and Analysis: Offer a summary of the article, key terms, and any available NLP-driven insights.\n",
    "Citations and References: List cited articles and references, with links to their detail views if available.\n",
    "My Library:\n",
    "Collections: Allow users to organize saved articles into collections or folders. Provide options to create, rename, and delete collections.\n",
    "Article List: Within each collection, display articles with options for quick viewing, removing from the collection, or sharing.\n",
    "Collaboration Invites: Section for viewing and managing collaboration invitations from other users.\n",
    "Collaborate:\n",
    "Project Workspace: Offer a collaborative workspace for each project, including shared article collections, discussion boards, and task lists.\n",
    "Communication Tools: Integrate chat or comment systems for real-time discussion among collaborators.\n",
    "Activity Feed: Display recent actions, updates, and comments within the project.\n",
    "Help and Tutorials:\n",
    "Guides: Provide user guides, FAQs, and video tutorials on using the platform effectively.\n",
    "Support: Offer contact information for technical support, feedback submission, and community forums.\n",
    "Navigation Flows:\n",
    "From Search to Detail: Users can go from viewing search results directly to the detail view of an article with a single click.\n",
    "Between Articles: In the article detail view, provide navigation options to move to the next or previous article in the search results or collection.\n",
    "Quick Access to My Library and Collaborate: Ensure that users can easily access their saved articles and collaboration projects from anywhere in the system through the navigation bar or home page shortcuts."
   ]
  },
  {
   "cell_type": "markdown",
   "metadata": {},
   "source": [
    "Application Logic (workflow, dataflow, flowchart):\n",
    "A  structured approach to defining the application logic\n",
    "\n",
    "Workflow Description\n",
    "\n",
    "User Input: The user starts by entering a search query through the GUI.\n",
    "Query Processing: The application processes the query, possibly applying filters or modifications based on advanced search options selected by the user.\n",
    "\n",
    "API Request: The processed query is sent to the selected databases/APIs (e.g., Europe PMC RESTful API) to retrieve relevant articles.\n",
    "\n",
    "Response Handling: The application receives the API responses and parses the data, extracting necessary details about the articles.\n",
    "\n",
    "Article Analysis: For each article, optional NLP and AI-driven analysis (e.g., summarization, key term extraction) is performed if selected by the user.\n",
    "\n",
    "Data Storage: Articles and their analyses are stored, with the option for the user to save them in \"My Library\" for easy access or further action.\n",
    "\n",
    "User Actions: The user interacts with the articles by reading, saving, or sharing them and may initiate collaboration on articles of interest.\n",
    "\n"
   ]
  },
  {
   "cell_type": "markdown",
   "metadata": {},
   "source": [
    "Package(s) Required:\n",
    "\n",
    "Web Scraping and API Interaction\n",
    "\n",
    "requests: Essential for making HTTP requests to RESTful APIs (e.g., Europe PMC) for retrieving article data.\n",
    "\n",
    "BeautifulSoup (from bs4 package): Useful for parsing HTML/XML responses, especially if some of the literature or metadata is not provided in a JSON format.\n",
    "\n",
    "xmltodict: Converts XML to Python dictionaries, making XML data easier to work with, similar to JSON.\n",
    "\n",
    "Natural Language Processing (NLP) and AI\n",
    "\n",
    "spacy: A comprehensive NLP library for tasks like tokenization, named entity recognition (NER), part-of-speech tagging, and dependency parsing. Useful for analyzing article content.\n",
    "\n",
    "gensim: Good for advanced NLP tasks, such as topic modeling and similarity searches, which could enhance the article analysis and recommendation features.\n",
    "\n",
    "transformers (by Hugging Face): Provides access to pre-trained NLP models for advanced tasks like text summarization, sentiment analysis, and question-answering, potentially useful for processing and analyzing articles.\n",
    "\n",
    "openai: If integrating with GPT-3 or other OpenAI models for tasks like summarization or generating research questions based on the literature.\n",
    "\n",
    "Data Manipulation and Storage\n",
    "\n",
    "pandas: Offers high-performance, easy-to-use data structures and data analysis tools. Useful for handling and analyzing metadata, search results, and user data.\n",
    "\n",
    "sqlalchemy: A SQL toolkit and Object-Relational Mapping (ORM) library for Python. Essential for interacting with databases to store user profiles, search histories, and article data.\n",
    "sqlite3 (part of Python's standard library): For lighter database needs without requiring an external server, suitable for prototyping and smaller datasets.\n",
    "\n",
    "\n",
    "TODO: \n",
    "Web Development (For Web-Based GUI)\n",
    "\n",
    "flask or django: Python web frameworks for developing the backend. Flask is lightweight and easy to use for simpler web applications, while Django offers more built-in features for building robust web applications.\n",
    "\n",
    "react or vue.js: JavaScript libraries for building the user interface, if developing a Single Page \n",
    "Application (SPA) for a more dynamic user experience.\n",
    "\n",
    "Other Utilities\n",
    "\n",
    "dotenv: To manage environment variables securely, especially for storing API keys and database credentials.\n",
    "pytest or unittest (part of Python's standard library): For writing and running tests to ensure your code works as expected.\n",
    "\n",
    "Package Management\n",
    "\n",
    "pipenv or conda: For managing project dependencies and Python environments, ensuring consistency across development, testing, and production environments.\n"
   ]
  },
  {
   "cell_type": "markdown",
   "metadata": {},
   "source": [
    "Functions, Classes, Objects Required for Your Workflow:\n",
    "\n",
    "Functions:\n",
    "fetch_articles(query): Retrieves articles based on a search query from APIs.\n",
    "parse_response(response): Parses the API response, extracting relevant article information.\n",
    "analyze_article(content): Performs NLP analysis on article content, like summarization or key term extraction.\n",
    "save_article(article_data): Saves article information and analysis results to a database.\n",
    "generate_summary(text): Generates a concise summary of an article's text.\n",
    "extract_key_terms(text): Identifies and extracts key terms from the article's text.\n",
    "\n",
    "Classes:\n",
    "\n",
    "Article: Represents an article, containing attributes like title, authors, publication date, and content.\n",
    "Methods could include .summarize(), .extract_key_terms(), and .save().\n",
    "SearchQuery: Encapsulates a search query, with methods to validate and modify the query parameters.\n",
    "DatabaseManager: Manages database connections and operations, such as inserting, querying, and updating article records.\n",
    "NLPProcessor: Wraps around NLP functionalities, providing a unified interface for text analysis tasks.\n",
    "\n",
    "Objects:\n",
    "\n",
    "search_query: Instance of SearchQuery, holding the user's search input and preferences.\n",
    "article: Instance of Article, storing retrieved article information and providing methods for analysis and storage.\n",
    "db_manager: Instance of DatabaseManager, used for all interactions with the database.\n",
    "nlp_processor: Instance of NLPProcessor, used for executing NLP tasks on articles."
   ]
  },
  {
   "cell_type": "markdown",
   "metadata": {},
   "source": [
    "Environment and Tools Setup (instructions for someone else):\n",
    "\n",
    "Python version 3.8 or newer\n",
    "\n",
    "Install Git for version control\n",
    "\n",
    "Clone the Repository: Use Git to clone the project's repository to your local machine.\n",
    "\n",
    "Create a Virtual Environment\n",
    "\n",
    "Activate the Virtual Environment\n",
    "\n",
    "Install Dependencies \n",
    "\n",
    "Create a .env file in the project root. Add environment variables for API keys and database credentials, following the .env.example template."
   ]
  },
  {
   "cell_type": "markdown",
   "metadata": {},
   "source": [
    "Current Status of Coding and Testing:\n",
    "Shared a Python script designed to interact with the Europe PMC RESTful web service, retrieve the full texts of scientific articles based on a user query, and save those texts in XML format.\n",
    "\n",
    "Encoding status:\n",
    "Functionality: The script includes functions to query the Europe PMC API, parse XML responses, extract full-text identifiers, retrieve full-text content and save it as XML files.\n",
    "\n",
    "Error handling: Implemented basic error handling (for example, checking for the absence of articles).\n",
    "\n",
    "TODO: OpenAI Integration: Code related to the OpenAI API has been commented, planned for future integration, or temporarily disabled features.\n",
    "\n",
    "\n",
    "TODO: \n",
    "Testing status:\n",
    "\n",
    "Unit testing: Implement unit tests for individual functions, such as sending API requests, parsing responses, and writing file operations. Python frameworks unittest or pytest may be useful.\n",
    "\n",
    "Integration Testing: Test the script as a whole to ensure that the components work together as they should. This includes testing the script's response to different search queries and handling different types of article data.\n",
    "\n",
    "Error Handling Tests: Specifically test how your script handles errors or unexpected responses from the Europe PMC API, including network failures or API limitations."
   ]
  },
  {
   "cell_type": "markdown",
   "metadata": {},
   "source": [
    "Current Status of Documentation in Code:\n",
    "\n",
    "1. Inline Comments and Docstrings\n",
    "2. TODO: README File: A clear, concise introduction to what the project does and its purpose.\n",
    "3. Installation Instructions: Detailed steps to set up the project environment, including prerequisites and dependency installation.\n",
    "4. TODO: Usage Guide: Examples of how to use the main functionalities of your project, including any CLI commands or API endpoints.\n",
    "5. TODO: LICENSE File"
   ]
  },
  {
   "cell_type": "markdown",
   "metadata": {},
   "source": [
    "Github Account Setup:\n",
    "DONE\n",
    "\n",
    "Github Commits Done:\n",
    "DONE"
   ]
  },
  {
   "cell_type": "markdown",
   "metadata": {},
   "source": [
    "\n",
    "Remaining Tasks before \"final product release\"\n",
    "\tExtensions to V1.0"
   ]
  }
 ],
 "metadata": {
  "language_info": {
   "name": "python"
  }
 },
 "nbformat": 4,
 "nbformat_minor": 2
}
